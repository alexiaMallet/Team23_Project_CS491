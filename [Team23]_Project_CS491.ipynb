{
 "cells": [
  {
   "cell_type": "markdown",
   "metadata": {
    "id": "yWQzdKrpA60A"
   },
   "source": [
    "# <font color=\"darkred\">  Classification of Chest X-ray to detect Covid-19\n",
    " <br>\n",
    "<br>"
   ]
  },
  {
   "cell_type": "markdown",
   "metadata": {
    "id": "AiHlh2RCRyDe"
   },
   "source": [
    "_20210382_       오정욱 <br>\n",
    "_20226410_ Alexia Mallet"
   ]
  },
  {
   "cell_type": "markdown",
   "metadata": {
    "id": "7rFLTYUSQNRP"
   },
   "source": [
    "## <font color='burlywood'> Acknowledgment"
   ]
  },
  {
   "cell_type": "markdown",
   "metadata": {
    "id": "O9mWnQQ6QZVF"
   },
   "source": [
    "This project has for objective to reproduce the network and results of COV19‑ResNet: Diagnostic Inference Engines for Early Detection of COVID‑19 -  Ayturk Keles, Mustafa Berk Keles, Ali Keles - (https://link.springer.com/content/pdf/10.1007/s12559-020-09795-5.pdf)"
   ]
  },
  {
   "cell_type": "markdown",
   "metadata": {
    "id": "4sWmdsoQLD-v"
   },
   "source": [
    "The Dataset used is called __COVIDx CXR-3__ and was downloaded from https://www.kaggle.com/datasets/andyczhao/covidx-cxr2?select=competition_test. <br> \n",
    "The credits for data collection belongs to _Wang, Linda and Lin, Zhong Qiu and Wong, Alexander, COVID-Net: a tailored deep convolutional neural network design for detection of COVID-19 cases from chest X-ray images, Scientific Reports, 2020_\n"
   ]
  },
  {
   "cell_type": "markdown",
   "metadata": {},
   "source": [
    "_To access the desired part of the code, clic on the name in the Table of contents_"
   ]
  },
  {
   "cell_type": "markdown",
   "metadata": {
    "id": "dBclvqRHA6_9"
   },
   "source": [
    "## <font color='burlywood'> Table of contents\n",
    "* I. [<font color='black'> Set up ](#paragraph1)\n",
    "    * I.1. [<font color='dimgray'> Library importation](#subparagraph11)\n",
    "    * I.2. [<font color='dimgray'> Configuration and Hyper-parameters](#subparagraph12)\n",
    "    * I.3. [<font color='dimgray'> Data importation](#subparagraph13)     \n",
    "* II. [<font color='black'> Network implementation](#paragraph2)\n",
    "    * II.1. [<font color='dimgray'> Implementation of Conv Block](#subparagraph21)\n",
    "    * II.2. [<font color='dimgray'> Implementation of Identity Block](#subparagraph22)\n",
    "    * II.3. [<font color='dimgray'> Implementation of ResNet Block](#subparagraph23)\n",
    "    * II.4. [<font color='dimgray'> Implementation of the network COV19ResNet](#subparagraph24)\n",
    "* III. [<font color='black'> Training the network](#paragraph3)\n",
    "    * III.1. [<font color='dimgray'> Settings](#subparagraph31)\n",
    "    * III.2. [<font color='dimgray'> Training](#subparagraph32)\n",
    "    * III.3. [<font color='dimgray'> Inference](#subparagraph33)\n",
    "    * III.4. [<font color='dimgray'> Results](#subparagraph34)"
   ]
  },
  {
   "cell_type": "markdown",
   "metadata": {
    "id": "_QUMEoTPA7CY"
   },
   "source": [
    "<a name=\"paragraph1\"></a>\n",
    "## <font color='burlywood'> I. Set up"
   ]
  },
  {
   "cell_type": "markdown",
   "metadata": {
    "id": "yamEaiWbREvI"
   },
   "source": [
    "<a name=\"subparagraph11\"></a>\n",
    "###  <font color='sienna'> I.1 -Library importation"
   ]
  },
  {
   "cell_type": "code",
   "execution_count": 29,
   "metadata": {},
   "outputs": [],
   "source": [
    "# pip install torch ## To run the first time of using it in Jupyter notebook "
   ]
  },
  {
   "cell_type": "code",
   "execution_count": 30,
   "metadata": {},
   "outputs": [],
   "source": [
    "# pip install torchvision ## To run the first time of using it in Jupyter notebook "
   ]
  },
  {
   "cell_type": "code",
   "execution_count": 31,
   "metadata": {
    "id": "lv44g3HgRKTH"
   },
   "outputs": [],
   "source": [
    "from PIL import Image\n",
    "from tqdm import tqdm\n",
    "from pathlib import Path\n",
    "import time\n",
    "\n",
    "import torch\n",
    "import torch.nn as nn\n",
    "import torch.nn.functional as F\n",
    "import torch.optim as optim\n",
    "from torch.utils.data import Dataset, DataLoader\n",
    "from torchvision import transforms\n",
    "import torchvision\n",
    "\n",
    "from torchvision.utils import make_grid\n",
    "from torchvision.utils import save_image\n",
    "from IPython.display import Image\n",
    "import matplotlib.pyplot as plt\n",
    "import numpy as np\n",
    "import random\n",
    "%matplotlib inline\n",
    "\n",
    "import pandas as pd # Read the files for labels "
   ]
  },
  {
   "cell_type": "markdown",
   "metadata": {},
   "source": [
    "<a name=\"subparagraph12\"></a>\n",
    "###  <font color='sienna'> I.2 - Configuration and Hyper-parameters"
   ]
  },
  {
   "cell_type": "code",
   "execution_count": 32,
   "metadata": {},
   "outputs": [],
   "source": [
    "# pip install easydict ## To run if using it for the first time in Jupyter notebook "
   ]
  },
  {
   "cell_type": "code",
   "execution_count": 33,
   "metadata": {},
   "outputs": [],
   "source": [
    "from easydict import EasyDict as edict\n",
    "\n",
    "# set.seed(1314)\n",
    "# set manual seeds \n",
    "torch.manual_seed(134)\n",
    "torch.cuda.manual_seed(134)\n",
    "\n",
    "args = edict()\n",
    "\n",
    "# basic options \n",
    "args.name = 'main'                   # experiment name.\n",
    "args.ckpt_dir = 'ckpts'              # checkpoint directory name.\n",
    "args.ckpt_iter = 1000                # how frequently checkpoints are saved.\n",
    "args.ckpt_reload = 'best'            # which checkpoint to re-load.\n",
    "args.gpu = True                      # whether or not to use gpu. \n",
    "\n",
    "# network options\n",
    "args.num_filters = 1                # number of output channels in the first nn.Conv2d module in MyNetwork.\n",
    "\n",
    "# data options\n",
    "args.batch_size = 128                # number of mini-batch size.\n",
    "\n",
    "# training options\n",
    "args.lr = 0.005                        # learning rate.\n",
    "args.epoch = 30                     # training epoch.\n",
    "\n",
    "# tensorboard options\n",
    "args.tensorboard = True              # whether or not to use tensorboard logging.\n",
    "args.log_dir = 'logs'                # to which tensorboard logs will be saved.\n",
    "args.log_iter = 100                  # how frequently logs are saved."
   ]
  },
  {
   "cell_type": "markdown",
   "metadata": {
    "id": "PzOwmwBcRKir"
   },
   "source": [
    "<a name=\"subparagraph13\"></a>\n",
    "###  <font color='sienna'> I.3 -Data importation"
   ]
  },
  {
   "cell_type": "markdown",
   "metadata": {
    "id": "2vz3NEUlMnvd"
   },
   "source": [
    "Data consists of : \n",
    "- A training set composed of 29,979 Chest X-Ray images with names and a txt document with the patient id, the name of the image corresponding, the label (positive (15,994) or negative (13,992)) and the data source \n",
    "- A test set composed of 400 Chest X-Ray images with names and a txt document with the patient id, the name of the image corresponding, the label (positive (200) or negative (200)) and the data source "
   ]
  },
  {
   "cell_type": "markdown",
   "metadata": {},
   "source": [
    "In the current directory, the following files should be present : <br> \n",
    "- Folder __train_image__ : Contains the training images \n",
    "- Folder __test_image__ : Contains the testing images \n",
    "- Csv file __train.csv__ : Csv files containing [PatientId, File_Name, Class, Data_Source] for the training images\n",
    "- Csv file __test.csv__ : Csv files containing [PatientId, File_Name, Class, Data_Source] for the testing images"
   ]
  },
  {
   "cell_type": "markdown",
   "metadata": {},
   "source": [
    "__Importation of the outputs (labels)__"
   ]
  },
  {
   "cell_type": "markdown",
   "metadata": {},
   "source": [
    "At first, there was a problem (error corresponding to unsupported files) with reading some images from the training set with the function torchvision.io.read_image. A first analysis of the txt file revealed (see below) that the extensions of the documents weren't the problem. A set of images (85) were problematic and were deleted from the txt file (the update is available on github). As the database is consequent (around 30 000 images), this shouldn't impact the results. "
   ]
  },
  {
   "cell_type": "code",
   "execution_count": 34,
   "metadata": {},
   "outputs": [],
   "source": [
    "path_train = 'C:/Users/Alexia85/Documents/KAIST/Cours/CS491/Project/archive/train_V1.txt'\n",
    "train_labels = pd.read_csv(path_train, sep=\" \", header=None)\n",
    "train_labels.columns=['PatientId', 'File_Name', 'Class', 'Data_Source']"
   ]
  },
  {
   "cell_type": "code",
   "execution_count": 35,
   "metadata": {},
   "outputs": [
    {
     "data": {
      "text/html": [
       "<div>\n",
       "<style scoped>\n",
       "    .dataframe tbody tr th:only-of-type {\n",
       "        vertical-align: middle;\n",
       "    }\n",
       "\n",
       "    .dataframe tbody tr th {\n",
       "        vertical-align: top;\n",
       "    }\n",
       "\n",
       "    .dataframe thead th {\n",
       "        text-align: right;\n",
       "    }\n",
       "</style>\n",
       "<table border=\"1\" class=\"dataframe\">\n",
       "  <thead>\n",
       "    <tr style=\"text-align: right;\">\n",
       "      <th></th>\n",
       "      <th>PatientId</th>\n",
       "      <th>File_Name</th>\n",
       "      <th>Class</th>\n",
       "      <th>Data_Source</th>\n",
       "    </tr>\n",
       "  </thead>\n",
       "  <tbody>\n",
       "  </tbody>\n",
       "</table>\n",
       "</div>"
      ],
      "text/plain": [
       "Empty DataFrame\n",
       "Columns: [PatientId, File_Name, Class, Data_Source]\n",
       "Index: []"
      ]
     },
     "execution_count": 35,
     "metadata": {},
     "output_type": "execute_result"
    }
   ],
   "source": [
    "train_labels[train_labels.isnull().any(axis=1)]"
   ]
  },
  {
   "cell_type": "code",
   "execution_count": 36,
   "metadata": {},
   "outputs": [],
   "source": [
    "train_labels_test = train_labels\n",
    "train_labels_test['Extension'] = train_labels_test['File_Name'].str[-4:]"
   ]
  },
  {
   "cell_type": "code",
   "execution_count": 37,
   "metadata": {},
   "outputs": [],
   "source": [
    "train_labels_test = train_labels_test[(train_labels_test['Extension']!='.png') & (train_labels_test['Extension']!='.jpg')\n",
    "                                     & (train_labels_test['Extension']!='jpeg')]"
   ]
  },
  {
   "cell_type": "code",
   "execution_count": 38,
   "metadata": {},
   "outputs": [
    {
     "data": {
      "text/html": [
       "<div>\n",
       "<style scoped>\n",
       "    .dataframe tbody tr th:only-of-type {\n",
       "        vertical-align: middle;\n",
       "    }\n",
       "\n",
       "    .dataframe tbody tr th {\n",
       "        vertical-align: top;\n",
       "    }\n",
       "\n",
       "    .dataframe thead th {\n",
       "        text-align: right;\n",
       "    }\n",
       "</style>\n",
       "<table border=\"1\" class=\"dataframe\">\n",
       "  <thead>\n",
       "    <tr style=\"text-align: right;\">\n",
       "      <th></th>\n",
       "      <th>PatientId</th>\n",
       "      <th>File_Name</th>\n",
       "      <th>Class</th>\n",
       "      <th>Data_Source</th>\n",
       "      <th>Extension</th>\n",
       "    </tr>\n",
       "  </thead>\n",
       "  <tbody>\n",
       "    <tr>\n",
       "      <th>18</th>\n",
       "      <td>210</td>\n",
       "      <td>16745_2_1.PNG</td>\n",
       "      <td>negative</td>\n",
       "      <td>cohen</td>\n",
       "      <td>.PNG</td>\n",
       "    </tr>\n",
       "    <tr>\n",
       "      <th>396</th>\n",
       "      <td>450</td>\n",
       "      <td>4c8dee3d9fe81567b98ed1b0b2b4c6_jumbo.JPG</td>\n",
       "      <td>negative</td>\n",
       "      <td>cohen</td>\n",
       "      <td>.JPG</td>\n",
       "    </tr>\n",
       "  </tbody>\n",
       "</table>\n",
       "</div>"
      ],
      "text/plain": [
       "    PatientId                                 File_Name     Class Data_Source  \\\n",
       "18        210                             16745_2_1.PNG  negative       cohen   \n",
       "396       450  4c8dee3d9fe81567b98ed1b0b2b4c6_jumbo.JPG  negative       cohen   \n",
       "\n",
       "    Extension  \n",
       "18       .PNG  \n",
       "396      .JPG  "
      ]
     },
     "execution_count": 38,
     "metadata": {},
     "output_type": "execute_result"
    }
   ],
   "source": [
    "train_labels_test # No other extension than png and jpeg. "
   ]
  },
  {
   "cell_type": "markdown",
   "metadata": {},
   "source": [
    "These lines were delected : <br>\n",
    "\n",
    "ANON86 DX.1.2.840.113564.1722810162.20200320112920531100.1203801020003.png negative actmed <br>\n",
    "ANON162 DX.1.2.840.113564.1722810162.20200320114116138220.1203801020003.png negative actmed <br>\n",
    "ANON49 DX.1.2.840.113564.1722810162.20200320150341771440.1203801020003.png negative actmed <br>\n",
    "ANON55 DX.1.2.840.113564.1722810162.20200320155115417540.1203801020003.png negative actmed <br>\n",
    "ANON213 DX.1.2.840.113564.1722810162.20200320175830093580.1203801020003.png negative actmed <br>\n",
    "ANON48 DX.1.2.840.113564.1722810162.20200321085646975740.1203801020003.png negative actmed <br>\n",
    "ANON179 DX.1.2.840.113564.1722810162.20200321114314263800.1203801020003.png negative actmed <br>\n",
    "ANON207 DX.1.2.840.113564.1722810162.20200321204028829980.1203801020003.png negative actmed <br>\n",
    "ANON109 DX.1.2.840.113564.1722810162.202003212127446125.1203801020003.png negative actmed <br>\n",
    "ANON95 DX.1.2.840.113564.1722810162.20200322012248568150.1203801020003.png negative actmed <br>\n",
    "ANON145 DX.1.2.840.113564.1722810162.20200322143316916570.1203801020003.png negative actmed <br>\n",
    "ANON173 DX.1.2.840.113564.1722810162.20200323104202808100.1203801020003.png negative actmed <br>\n",
    "ANON56 DX.1.2.840.113564.1722810162.20200323113158393220.1203801020003.png negative actmed <br>\n",
    "ANON243 DX.1.2.840.113564.1722810162.20200324140423562310.1203801020003.png negative actmed <br>\n",
    "ANON17 DX.1.2.840.113564.1722810162.20200324163640450390.1203801020003.png negative actmed <br>\n",
    "ANON5 DX.1.2.840.113564.1722810162.20200324173713500510.1203801020003.png negative actmed <br>\n",
    "ANON96 DX.1.2.840.113564.1722810162.202003251249284366.1203801020003.png negative actmed <br>\n",
    "ANON54 DX.1.2.840.113564.1722810162.20200325130434611240.1203801020003.png negative actmed <br>\n",
    "ANON97 DX.1.2.840.113564.1722810162.20200325133712872360.1203801020003.png negative actmed <br>\n",
    "ANON125 DX.1.2.840.113564.1722810162.20200325160609990420.1203801020003.png negative actmed <br>\n",
    "ANON52 DX.1.2.840.113564.1722810162.20200325180041010540.1203801020003.png negative actmed <br>\n",
    "ANON229 DX.1.2.840.113564.1722810162.20200325180923403640.1203801020003.png negative actmed <br>\n",
    "ANON62 DX.1.2.840.113564.1722810162.20200326103306090980.1203801020003.png negative actmed <br>\n",
    "ANON81 DX.1.2.840.113564.1722810162.20200327115150971770.1203801020003.png negative actmed <br>\n",
    "ANON182 DX.1.2.840.113564.1722810162.20200327130648390830.1203801020003.png negative actmed <br>\n",
    "ANON137 DX.1.2.840.113564.1722810162.20200327135950280950.1203801020003.png negative actmed <br>\n",
    "ANON75 DX.1.2.840.113564.1722810162.20200328130557219720.1203801020003.png negative actmed <br>\n",
    "ANON166 DX.1.2.840.113564.1722810162.20200330101715842390.1203801020003.png negative actmed <br>\n",
    "ANON171 DX.1.2.840.113564.1722810162.20200330115928823450.1203801020003.png negative actmed <br>\n",
    "ANON13 DX.1.2.840.113564.1722810162.20200330142125620570.1203801020003.png negative actmed <br>\n",
    "ANON11 DX.1.2.840.113564.1722810162.20200330155549529100.1203801020003.png negative actmed <br>\n",
    "ANON163 DX.1.2.840.113564.1722810162.20200331093347514180.1203801020003.png negative actmed <br>\n",
    "ANON35 DX.1.2.840.113564.1722810162.20200331165352707460.1203801020003.png negative actmed <br>\n",
    "ANON198 DX.1.2.840.113564.1722810162.20200331235358718640.1203801020003.png negative actmed<br>\n",
    "ANON71 DX.1.2.840.113564.1722810162.20200401095800552100.1203801020003.png negative actmed <br>\n",
    "ANON183 DX.1.2.840.113564.1722810162.20200403103712240360.1203801020003.png negative actmed <br>\n",
    "ANON60 DX.1.2.840.113564.1722810162.20200403105318208480.1203801020003.png negative actmed <br>\n",
    "ANON206 DX.1.2.840.113564.1722810162.20200403113227763540.1203801020003.png negative actmed <br>\n",
    "ANON35 DX.1.2.840.113564.1722810162.20200404145807490420.1203801020003.png negative actmed <br>\n",
    "ANON10 DX.1.2.840.113564.1722810162.20200404194854145480.1203801020003.png negative actmed <br>\n",
    "ANON59 DX.1.2.840.113564.1722810162.20200404203720370540.1203801020003.png negative actmed <br>\n",
    "ANON18 DX.1.2.840.113564.1722810162.20200404210401196600.1203801020003.png negative actmed <br>\n",
    "ANON242 DX.1.2.840.113564.1722810162.20200405000323941660.1203801020003.png negative actmed <br>\n",
    "ANON206 DX.1.2.840.113564.1722810162.20200405214257011250.1203801020003.png negative actmed <br>\n",
    "ANON105 DX.1.2.840.113564.1722810162.20200406082745416370.1203801020003.png negative actmed <br>\n",
    "ANON221 DX.1.2.840.113564.1722810162.20200406152138599630.1203801020003.png negative actmed <br>\n",
    "ANON238 DX.1.2.840.113564.1722810162.20200407095712184770.1203801020003.png negative actmed <br>\n",
    "ANON90 DX.1.2.840.113564.1722810162.20200407110159061830.1203801020003.png negative actmed <br>\n",
    "ANON165 DX.1.2.840.113564.1722810162.20200407154351156930.1203801020003.png negative actmed <br>\n",
    "ANON43 DX.1.2.840.113564.1722810162.20200408152416905270.1203801020003.png negative actmed <br>\n",
    "ANON60 DX.1.2.840.113564.1722810162.20200408170334886370.1203801020003.png negative actmed <br>\n",
    "ANON190 DX.1.2.840.113564.1722810162.20200409100734996750.1203801020003.png negative actmed <br>\n",
    "ANON140 DX.1.2.840.113564.1722810162.20200409131002213950.1203801020003.png negative actmed <br>\n",
    "ANON124 DX.1.2.840.113564.1722810162.20200410122807096300.1203801020003.png negative actmed <br>\n",
    "ANON59 DX.1.2.840.113564.1722810162.20200410172247966360.1203801020003.png negative actmed <br>\n",
    "ANON113 DX.1.2.840.113564.1722810162.20200410175512031420.1203801020003.png negative actmed <br>\n",
    "ANON146 DX.1.2.840.113564.1722810162.20200413144300534160.1203801020003.png negative actmed <br>\n",
    "ANON20 DX.1.2.840.113564.1722810162.20200413163143169320.1203801020003.png negative actmed <br>\n",
    "ANON12 DX.1.2.840.113564.1722810162.20200414101717389720.1203801020003.png negative actmed <br>\n",
    "ANON37 DX.1.2.840.113564.1722810162.20200414150507492960.1203801020003.png negative actmed <br>\n",
    "ANON205 DX.1.2.840.113564.1722810162.202004141559081673.1203801020003.png negative actmed <br>\n",
    "ANON208 DX.1.2.840.113564.1722810162.20200414192734848390.1203801020003.png negative actmed <br>\n",
    "ANON79 DX.1.2.840.113564.1722810162.20200414235332189450.1203801020003.png negative actmed <br>\n",
    "ANON74 DX.1.2.840.113564.1722810162.20200415172911278870.1203801020003.png negative actmed <br>\n",
    "ANON129 DX.1.2.840.113564.1722810162.20200416083007099140.1203801020003.png negative actmed <br>\n",
    "ANON130 DX.1.2.840.113564.1722810162.20200416130101712300.1203801020003.png negative actmed <br>\n",
    "ANON21 DX.1.2.840.113564.1722810162.20200416135234642360.1203801020003.png negative actmed <br>\n",
    "ANON51 DX.1.2.840.113564.1722810162.20200416190453105480.1203801020003.png negative actmed <br>\n",
    "ANON161 DX.1.2.840.113564.1722810162.20200416191632203540.1203801020003.png negative actmed <br>\n",
    "ANON104 DX.1.2.840.113564.1722810162.20200417024634079600.1203801020003.png negative actmed <br>\n",
    "ANON228 DX.1.2.840.113564.1722810162.20200417102240621720.1203801020003.png negative actmed <br>\n",
    "ANON149 DX.1.2.840.113564.1722810162.20200417105359936840.1203801020003.png negative actmed <br>\n",
    "ANON151 DX.1.2.840.113564.1722810162.20200417110000959900.1203801020003.png negative actmed<br>\n",
    "ANON122 DX.1.2.840.113564.1722810162.202004171314057425.1203801020003.png negative actmed <br>\n",
    "ANON185 DX.1.2.840.113564.1722810162.20200417134736990110.1203801020003.png negative actmed <br>\n",
    "ANON180 DX.1.2.840.113564.1722810162.20200417201319616230.1203801020003.png negative actmed <br>\n",
    "ANON115 DX.1.2.840.113564.1722810162.20200417214150749290.1203801020003.png negative actmed <br>\n",
    "ANON154 DX.1.2.840.113564.1722810162.20200418123953240490.1203801020003.png negative actmed <br>\n",
    "ANON98 DX.1.2.840.113564.1722810162.20200418170644187730.1203801020003.png negative actmed <br>\n",
    "ANON118 DX.1.2.840.113564.1722810162.20200419111851705930.1203801020003.png negative actmed <br>\n",
    "ANON233 DX.1.2.840.113564.1722810162.20200420123349689300.1203801020003.png negative actmed <br>\n",
    "ANON192 DX.1.2.840.113564.1722810162.20200420140206725640.1203801020003.png negative actmed <br>\n",
    "ANON187 DX.1.2.840.113564.1722810162.20200420150441592700.1203801020003.png negative actmed <br>\n",
    "ANON33 DX.1.2.840.113564.1722810162.20200420155936364760.1203801020003.png negative actmed <br>\n",
    "ANON41 DX.1.2.840.113564.1722810162.20200420164750991860.1203801020003.png negative actmed <br>\n",
    "\n",
    "ANON199 DX.1.2.840.113564.1722810162.202003241226081857.1203801020003.png positive actmed <br>\n",
    "ANON14 DX.1.2.840.113564.1722810162.20200325102716421950.1203801020003.png positive actmed <br>\n",
    "ANON80 DX.1.2.840.113564.1722810162.20200325125743092120.1203801020003.png positive actmed <br>\n",
    "ANON60 DX.1.2.840.113564.1722810162.20200326123403551130.1203801020003.png positive actmed <br>\n",
    "ANON60 DX.1.2.840.113564.1722810162.20200326123552855170.1203801020003.png positive actmed <br>\n",
    "ANON202 DX.1.2.840.113564.1722810162.20200331100140006240.1203801020003.png positive actmed <br>\n",
    "ANON136 DX.1.2.840.113564.1722810162.20200405112431725920.1203801020003.png positive actmed <br>"
   ]
  },
  {
   "cell_type": "code",
   "execution_count": 39,
   "metadata": {},
   "outputs": [],
   "source": [
    "# path_train = 'C:/Users/Alexia85/Documents/KAIST/Cours/CS491/Project/archive/train.txt'\n",
    "# train.txt is the updated txt file without the images that computed an error when reading them \n",
    "path_train = 'C:/Users/Alexia85/Documents/KAIST/Cours/CS491/Project/archive/train.txt'\n",
    "train_labels = pd.read_csv(path_train, sep=\" \", header=None)\n",
    "train_labels.columns=['PatientId', 'File_Name', 'Class', 'Data_Source'] # Given in the data description \n",
    "train_labels=train_labels.drop(['PatientId', 'Data_Source'], axis=1 ) # Don't need the id of the patient or the data source \n",
    "# We want an output of 1 for postive and 0 for negative \n",
    "def binary_transform(var) : \n",
    "    if(var == 'positive') : \n",
    "        return (1)\n",
    "    else : \n",
    "        return(0)\n",
    "train_labels['Class'] = train_labels['Class'].apply(binary_transform)\n",
    "\n",
    "path_test = 'C:/Users/Alexia85/Documents/KAIST/Cours/CS491/Project/archive/test.txt'\n",
    "test_labels = pd.read_csv(path_test, sep=\" \", header=None)\n",
    "test_labels.columns=['PatientId', 'File_Name', 'Class', 'Data_Source'] # Given in the data description \n",
    "test_labels=test_labels.drop(['PatientId', 'Data_Source'], axis=1 ) # Don't need the id of the patient or the data source \n",
    "# We want an output of 1 for postive and 0 for negative \n",
    "test_labels['Class'] = test_labels['Class'].apply(binary_transform)\n"
   ]
  },
  {
   "cell_type": "code",
   "execution_count": 40,
   "metadata": {},
   "outputs": [
    {
     "data": {
      "text/html": [
       "<div>\n",
       "<style scoped>\n",
       "    .dataframe tbody tr th:only-of-type {\n",
       "        vertical-align: middle;\n",
       "    }\n",
       "\n",
       "    .dataframe tbody tr th {\n",
       "        vertical-align: top;\n",
       "    }\n",
       "\n",
       "    .dataframe thead th {\n",
       "        text-align: right;\n",
       "    }\n",
       "</style>\n",
       "<table border=\"1\" class=\"dataframe\">\n",
       "  <thead>\n",
       "    <tr style=\"text-align: right;\">\n",
       "      <th></th>\n",
       "      <th>File_Name</th>\n",
       "      <th>Class</th>\n",
       "    </tr>\n",
       "  </thead>\n",
       "  <tbody>\n",
       "    <tr>\n",
       "      <th>0</th>\n",
       "      <td>ARDSSevere.png</td>\n",
       "      <td>0</td>\n",
       "    </tr>\n",
       "    <tr>\n",
       "      <th>1</th>\n",
       "      <td>acute-respiratory-distress-syndrome-ards-1.jpg</td>\n",
       "      <td>0</td>\n",
       "    </tr>\n",
       "    <tr>\n",
       "      <th>2</th>\n",
       "      <td>acute-respiratory-distress-syndrome-ards.jpg</td>\n",
       "      <td>0</td>\n",
       "    </tr>\n",
       "    <tr>\n",
       "      <th>3</th>\n",
       "      <td>ards-secondary-to-tiger-snake-bite.png</td>\n",
       "      <td>0</td>\n",
       "    </tr>\n",
       "    <tr>\n",
       "      <th>4</th>\n",
       "      <td>pneumocystis-pneumonia-2-PA.png</td>\n",
       "      <td>0</td>\n",
       "    </tr>\n",
       "  </tbody>\n",
       "</table>\n",
       "</div>"
      ],
      "text/plain": [
       "                                        File_Name  Class\n",
       "0                                  ARDSSevere.png      0\n",
       "1  acute-respiratory-distress-syndrome-ards-1.jpg      0\n",
       "2    acute-respiratory-distress-syndrome-ards.jpg      0\n",
       "3          ards-secondary-to-tiger-snake-bite.png      0\n",
       "4                 pneumocystis-pneumonia-2-PA.png      0"
      ]
     },
     "execution_count": 40,
     "metadata": {},
     "output_type": "execute_result"
    }
   ],
   "source": [
    "train_labels.head()"
   ]
  },
  {
   "cell_type": "code",
   "execution_count": 41,
   "metadata": {},
   "outputs": [
    {
     "data": {
      "text/plain": [
       "1    15987\n",
       "0    13907\n",
       "Name: Class, dtype: int64"
      ]
     },
     "execution_count": 41,
     "metadata": {},
     "output_type": "execute_result"
    }
   ],
   "source": [
    "train_labels['Class'].value_counts()"
   ]
  },
  {
   "cell_type": "code",
   "execution_count": 42,
   "metadata": {},
   "outputs": [
    {
     "data": {
      "text/plain": [
       "(29894, 2)"
      ]
     },
     "execution_count": 42,
     "metadata": {},
     "output_type": "execute_result"
    }
   ],
   "source": [
    "train_labels.shape"
   ]
  },
  {
   "cell_type": "markdown",
   "metadata": {},
   "source": [
    "__Importation of the images and creation of iterable objects__"
   ]
  },
  {
   "cell_type": "code",
   "execution_count": 43,
   "metadata": {},
   "outputs": [],
   "source": [
    "# from skimage import io, transform\n",
    "# Function allowing to read an image thanks to the path \n",
    "def import_image(name, train = True) : \n",
    "    # Inputs : \n",
    "    # name : file name for the image (it is from the csv file)\n",
    "    # train : Boolean, if true, we look for an image in the training set, otherwise, we look for an image in the testing set\n",
    "    # Output : \n",
    "    # Reads the selected image\n",
    "    if (train) : \n",
    "        path_train = \"C:/Users/Alexia85/Documents/KAIST/Cours/CS491/Project/archive/train_image/\"\n",
    "        return (torchvision.io.read_image(path_train + name))\n",
    "    else : \n",
    "        path_test = \"C:/Users/Alexia85/Documents/KAIST/Cours/CS491/Project/archive/test_image/\"\n",
    "        return (torchvision.io.read_image(path_test + name))"
   ]
  },
  {
   "cell_type": "code",
   "execution_count": 44,
   "metadata": {},
   "outputs": [],
   "source": [
    "# Customized dataset importation (function already implemented for CIFAR10 database for instance)\n",
    "# It is composed of three functions: init, len and getitem\n",
    "# It inherites from Dataset\n",
    "import torchvision.transforms.functional as F\n",
    "class ImportData(Dataset):\n",
    "    def __init__(self, df, train_bool = True):\n",
    "        # Inputs : \n",
    "        # df : DataFrame from the csv file with the names of the images and the corresponding class \n",
    "        # train_bool: if True, importation of the training dataset, otherwise, importation of the testing dataset\n",
    "        self.df = df \n",
    "        self.train = train_bool \n",
    "\n",
    "    def __len__(self):\n",
    "        # Returns the number of rows in the dataset df \n",
    "        return self.df.shape[0]\n",
    "\n",
    "    def __getitem__(self, idx):\n",
    "        if torch.is_tensor(idx):\n",
    "            idx = idx.tolist()\n",
    "        # Gets the images and labels to be able to construct an iterable object to train later \n",
    "        image = import_image(self.df[\"File_Name\"][idx], self.train)\n",
    "        label = self.df[\"Class\"][idx]\n",
    "\n",
    "        gt_trans = transforms.Compose([\n",
    "            transforms.ToPILImage(), # Didn't work without it as some images have a fourth channel (rgb_to_grayscale didn't work)\n",
    "            transforms.Resize((224, 224)), # From the paper, the image are of size (224 × 224 × 1)\n",
    "            transforms.Grayscale(num_output_channels=1), # Making sure to have grayscale images (1 channel)\n",
    "            transforms.ToTensor(),\n",
    "            transforms.Normalize((0.5),(0.5))]) # Added after experiencing gradient exploding during training\n",
    "        image = gt_trans(image)\n",
    "\n",
    "        return image, label"
   ]
  },
  {
   "cell_type": "code",
   "execution_count": 45,
   "metadata": {},
   "outputs": [],
   "source": [
    "train_data = ImportData(train_labels) # Importation of the training dataset \n",
    "test_data = ImportData(test_labels, train_bool = False) # Importation of the training dataset "
   ]
  },
  {
   "cell_type": "code",
   "execution_count": 46,
   "metadata": {},
   "outputs": [],
   "source": [
    "# Creation of the iterable objects \n",
    "train_dataloader = DataLoader(train_data, batch_size=args.batch_size, shuffle=True, drop_last=True)\n",
    "test_dataloader = DataLoader(test_data, batch_size=args.batch_size, shuffle=False, drop_last=False)"
   ]
  },
  {
   "cell_type": "markdown",
   "metadata": {
    "id": "mTSGKk6AROPe"
   },
   "source": [
    "<a name=\"paragraph2\"></a>\n",
    "## <font color='burlywood'> II. Network implementation"
   ]
  },
  {
   "cell_type": "markdown",
   "metadata": {
    "id": "-7aODXVESnbg"
   },
   "source": [
    "In this part, we implement : \n",
    "- The Conv Block \n",
    "- The Identity Block \n",
    "- The ResNet Block composed of the Conv Block and a designated number of Identity Blocks \n",
    "- COV_ResNet which is the final network"
   ]
  },
  {
   "cell_type": "markdown",
   "metadata": {
    "id": "FwLxZFZSSnk6"
   },
   "source": [
    "<a name=\"subparagraph21\"></a>\n",
    "###  <font color='sienna'> II.1 -Implementation of Conv Block"
   ]
  },
  {
   "attachments": {
    "Conv.jpg": {
     "image/jpeg": "[encoded data removed]"
    }
   },
   "cell_type": "markdown",
   "metadata": {},
   "source": [
    "![Conv.jpg](attachment:Conv.jpg)"
   ]
  },
  {
   "cell_type": "code",
   "execution_count": 47,
   "metadata": {
    "id": "4eWuhxfXMeLG"
   },
   "outputs": [],
   "source": [
    "class Conv_Block(nn.Module):\n",
    "    def __init__(self, in_channels, f, s):\n",
    "        super(Conv_Block, self).__init__()\n",
    "        \"\"\"\n",
    "        Conv_Block implementation\n",
    "        \n",
    "        Args:\n",
    "            1. in_channels (int) : Number of channels in the input.\n",
    "            2. f (int): Number of channels in the output.\n",
    "            3. s (int): stride\n",
    "        Returns the output of the conv block \n",
    "        \"\"\"\n",
    "        # Convolution layer \n",
    "        self.conv1 = nn.Conv2d(in_channels = in_channels, out_channels = f, kernel_size = 1)\n",
    "        # Batch normalization in 2D \n",
    "        self.bn1 = nn.BatchNorm2d(f)\n",
    "        # ReLU\n",
    "        self.act1 = nn.ReLU()\n",
    "\n",
    "        # Convolution layer \n",
    "        # Add a padding of 1 otherwise problems in the dimension sizes \n",
    "        self.conv2 = nn.Conv2d(in_channels = f, out_channels = f, kernel_size = 3, stride = s, padding = 1)\n",
    "        # Batch normalization in 2D \n",
    "        self.bn2 = nn.BatchNorm2d(f)\n",
    "        # ReLU\n",
    "        self.act2 = nn.ReLU()\n",
    "\n",
    "        # Convolution layer \n",
    "        self.conv3 = nn.Conv2d(in_channels = f, out_channels = f, kernel_size = 1) # Is output channels supposed to be 4f ? Doesn't match \n",
    "        # Batch normalization in 2D \n",
    "        self.bn3 = nn.BatchNorm2d(f)\n",
    "\n",
    "        # Convolution layer \n",
    "        self.conv4 = nn.Conv2d(in_channels = in_channels, out_channels = f, kernel_size = 1, stride = s)\n",
    "        # Batch normalization in 2D \n",
    "        self.bn4 = nn.BatchNorm2d(f)\n",
    "\n",
    "        # ReLU \n",
    "        self.act = nn.ReLU()\n",
    "\n",
    "\n",
    "    def forward(self, x):\n",
    "        \"\"\"\n",
    "        Feed-forward data 'x' through the module.\n",
    "                \n",
    "        Args:\n",
    "            1. x (torch.FloatTensor)\n",
    "            .\n",
    "        Returns:\n",
    "            1. output (torch.FloatTensor)\n",
    "        \"\"\"\n",
    "\n",
    "        output1 = self.act1(self.bn1(self.conv1(x)))\n",
    "        output1 = self.act2(self.bn2(self.conv2(output1)))\n",
    "        output1 = self.bn3(self.conv3(output1))\n",
    "\n",
    "        output2 = self.bn4(self.conv4(x))\n",
    "\n",
    "        output = output1 + output2\n",
    "        output = self.act(output)\n",
    "\n",
    "        return output"
   ]
  },
  {
   "cell_type": "markdown",
   "metadata": {
    "id": "9JKRzHkjA7F_"
   },
   "source": [
    "<a name=\"subparagraph22\"></a>\n",
    "###  <font color='sienna'> II.2 -Implementation of Identity Block"
   ]
  },
  {
   "attachments": {
    "Id.jpg": {
     "image/jpeg": "[encoded data removed]"
    }
   },
   "cell_type": "markdown",
   "metadata": {},
   "source": [
    "![Id.jpg](attachment:Id.jpg)"
   ]
  },
  {
   "cell_type": "code",
   "execution_count": 48,
   "metadata": {
    "id": "sctJXOHGa6v3"
   },
   "outputs": [],
   "source": [
    "class Identity_Block(nn.Module):\n",
    "    def __init__(self, in_channels, f):\n",
    "        super(Identity_Block, self).__init__()\n",
    "        \"\"\"\n",
    "        Identity_Block implementation\n",
    "        \n",
    "        Args:\n",
    "            1. in_channels (int) : Number of channels in the input.\n",
    "            2. f (int): Number of channels in the output.\n",
    "        Returns the output of the conv block \n",
    "        \"\"\"\n",
    "        # Convolution layer \n",
    "        self.conv1 = nn.Conv2d(in_channels = in_channels, out_channels = f, kernel_size = 1, padding = 'valid')\n",
    "        # Batch normalization in 2D \n",
    "        self.bn1 = nn.BatchNorm2d(f)\n",
    "        # ReLU\n",
    "        self.act1 = nn.ReLU()\n",
    "\n",
    "        # Convolution layer \n",
    "        self.conv2 = nn.Conv2d(in_channels = f, out_channels = f, kernel_size = 3, padding = 'same')\n",
    "        # Batch normalization in 2D \n",
    "        self.bn2 = nn.BatchNorm2d(f)\n",
    "        # ReLU\n",
    "        self.act2 = nn.ReLU()\n",
    "\n",
    "        # Convolution layer \n",
    "        self.conv3 = nn.Conv2d(in_channels = f, out_channels = f, kernel_size = 1, padding = 'valid')\n",
    "        # Batch normalization in 2D \n",
    "        self.bn3 = nn.BatchNorm2d(f)\n",
    "\n",
    "        # ReLU \n",
    "        self.act = nn.ReLU()\n",
    "\n",
    "\n",
    "    def forward(self, x):\n",
    "        \"\"\"\n",
    "        Feed-forward data 'x' through the module.\n",
    "                \n",
    "        Args:\n",
    "            1. x (torch.FloatTensor)\n",
    "            .\n",
    "        Returns:\n",
    "            1. output (torch.FloatTensor)\n",
    "        \"\"\"\n",
    "\n",
    "        output = self.act1(self.bn1(self.conv1(x)))\n",
    "        output = self.act2(self.bn2(self.conv2(output)))\n",
    "        output = self.bn3(self.conv3(output))\n",
    "\n",
    "        output = output + x \n",
    "        output = self.act(output)\n",
    "        return output"
   ]
  },
  {
   "cell_type": "markdown",
   "metadata": {
    "id": "4OxUSnrvey_4"
   },
   "source": [
    "<a name=\"subparagraph23\"></a>\n",
    "###  <font color='sienna'> II.3 -Implementation of the ResNet block"
   ]
  },
  {
   "attachments": {
    "ResNet.jpg": {
     "image/jpeg": "[encoded data removed]"
    }
   },
   "cell_type": "markdown",
   "metadata": {},
   "source": [
    "![ResNet.jpg](attachment:ResNet.jpg)"
   ]
  },
  {
   "cell_type": "code",
   "execution_count": 49,
   "metadata": {
    "id": "TIFP12ebhmB2"
   },
   "outputs": [],
   "source": [
    "class ResNet_Block(nn.Module):\n",
    "    def __init__(self,in_channels, f, s, r):\n",
    "        super(ResNet_Block, self).__init__()\n",
    "        \"\"\"\n",
    "        ResNet_Block implementation\n",
    "        \n",
    "        Args:\n",
    "            1. in_channels (int) : Number of channels in the input.\n",
    "            2. f (int): Number of channels in the output.\n",
    "            3. s (int) : stride \n",
    "            4. r (int) : Run r-1 times the identity block after the conv block \n",
    "\n",
    "        Returns the output of the ResNet block \n",
    "        \"\"\"\n",
    "\n",
    "        # Conv_Block \n",
    "        self.conv_block = nn.Sequential(*[Conv_Block(in_channels, f, s)])\n",
    "        # Identity_Block \n",
    "        self.id_block = nn.Sequential(*[Identity_Block(f, f) for _ in range(r-1)])\n",
    "       \n",
    "\n",
    "    def forward(self, x):\n",
    "        \"\"\"\n",
    "        Feed-forward data 'x' through the module.\n",
    "                \n",
    "        Args:\n",
    "            1. x (torch.FloatTensor)\n",
    "            .\n",
    "        Returns:\n",
    "            1. output (torch.FloatTensor)\n",
    "        \"\"\"\n",
    "\n",
    "        output = self.id_block(self.conv_block(x))\n",
    "        \n",
    "        return output"
   ]
  },
  {
   "cell_type": "markdown",
   "metadata": {
    "id": "f2vHX8GhhcDM"
   },
   "source": [
    "<a name=\"subparagraph24\"></a>\n",
    "###  <font color='sienna'> II.4 -Implementation of the network COV19ResNet"
   ]
  },
  {
   "attachments": {
    "Conv_Block.jpg": {
     "image/jpeg": "[encoded data removed]"
    }
   },
   "cell_type": "markdown",
   "metadata": {},
   "source": [
    "![Conv_Block.jpg](attachment:Conv_Block.jpg)"
   ]
  },
  {
   "cell_type": "markdown",
   "metadata": {
    "id": "klCCahCNeyyg"
   },
   "source": [
    "Here, we only output two neurons : Negative (to COVID 19) or Positive (to COVID 19). The detection of viral pneumonia isn't the focus of this project. "
   ]
  },
  {
   "cell_type": "code",
   "execution_count": 50,
   "metadata": {
    "id": "CJjSkTXAfBys"
   },
   "outputs": [],
   "source": [
    "class COV19_ResNet(nn.Module):\n",
    "    def __init__(self):\n",
    "        super(COV19_ResNet, self).__init__()\n",
    "        \"\"\"\n",
    "        COV19_ResNet implementation\n",
    "        \n",
    "        Args:\n",
    "            1. in_channels (int) : Number of channels in the input. (Should be 124x124x1)\n",
    "        Returns the output of the con block \n",
    "        \"\"\"\n",
    "        # Convolution layer \n",
    "        self.res_conv1 = nn.Conv2d(in_channels = 1, out_channels = 64, kernel_size = 7, stride = 2)\n",
    "        # MaxPooling layer \n",
    "        self.pool1 = nn.MaxPool2d(kernel_size = 2) \n",
    "        # First ResNet_Block \n",
    "        self.resNet1 = ResNet_Block(in_channels = 64, f=64, s=2, r=3)\n",
    "        # Second ResNet_Block\n",
    "        self.resNet2 = ResNet_Block(in_channels = 64, f=128, s=2, r=4)\n",
    "        # 2x2 Average Pooling 2D \n",
    "        self.avg_pool = nn.AvgPool2d(kernel_size = 2)\n",
    "        # Flatten \n",
    "        self.flat = nn.Flatten()\n",
    "        # Dense unit = 512, dropout 0.4\n",
    "        # Fully connected layer \n",
    "        self.fc1 = nn.Linear(6272, 512) \n",
    "        # Dropout \n",
    "        self.dropout = nn.Dropout2d(p =0.4)\n",
    "        # ReLU\n",
    "        self.act1 = nn.ReLU()\n",
    "        # Fully connected layer \n",
    "        self.fc2 = nn.Linear(512, 256)\n",
    "        # ReLU\n",
    "        self.act2 = nn.ReLU()\n",
    "        # Fully connected layer \n",
    "        self.fc3 = nn.Linear(256, 2) # The last layer only has two outputs because we want to identify positive or negative (and not viral pneumonia)\n",
    "        # Softmax \n",
    "        self.softmax = nn.Softmax() \n",
    "\n",
    "\n",
    "\n",
    "        \n",
    "\n",
    "\n",
    "    def forward(self, x):\n",
    "        \"\"\"\n",
    "        Feed-forward data 'x' through the module.\n",
    "                \n",
    "        Args:\n",
    "            1. x (torch.FloatTensor)\n",
    "            .\n",
    "        Returns:\n",
    "            1. output (torch.FloatTensor)\n",
    "        \"\"\"\n",
    "        output = self.res_conv1(x) \n",
    "        output = self.pool1(output)\n",
    "        output = self.avg_pool(self.resNet2(self.resNet1(output)))\n",
    "        output = self.act1(self.dropout(self.fc1(self.flat(output))))\n",
    "        output = self.fc3(self.act2(self.fc2(output)))\n",
    "        # output = self.softmax(output) ## Don't use the softmax because already implemented in the function nn.CrossEntropyLoss()\n",
    "        \n",
    "        return output"
   ]
  },
  {
   "cell_type": "markdown",
   "metadata": {},
   "source": [
    "<a name=\"paragraph3\"></a>\n",
    "## <font color='burlywood'> III. Training the network"
   ]
  },
  {
   "cell_type": "markdown",
   "metadata": {},
   "source": [
    "The code in this section was inspired by the code given in the first assignment of class CS491 that this project belongs to. "
   ]
  },
  {
   "cell_type": "markdown",
   "metadata": {},
   "source": [
    "<a name=\"subparagraph31\"></a>\n",
    "###  <font color='sienna'> III.1 - Settings"
   ]
  },
  {
   "cell_type": "code",
   "execution_count": 51,
   "metadata": {},
   "outputs": [],
   "source": [
    "# Basic settings\n",
    "device = 'cuda' if torch.cuda.is_available() and args.gpu else 'cpu'\n",
    "\n",
    "## To change to the path where one wants the results to be saved in \n",
    "result_dir = Path('C:/Users/Alexia85/Documents/KAIST/Cours/CS491/Project/results') \n",
    "result_dir.mkdir(parents=True, exist_ok=True)\n",
    "\n",
    "global_step = 0\n",
    "best_accuracy = 0."
   ]
  },
  {
   "cell_type": "code",
   "execution_count": 52,
   "metadata": {},
   "outputs": [
    {
     "data": {
      "text/plain": [
       "WindowsPath('C:/Users/Alexia85/Documents/KAIST/Cours/CS491/Project/results')"
      ]
     },
     "execution_count": 52,
     "metadata": {},
     "output_type": "execute_result"
    }
   ],
   "source": [
    "result_dir"
   ]
  },
  {
   "cell_type": "code",
   "execution_count": 53,
   "metadata": {},
   "outputs": [],
   "source": [
    "# Function to train and test \n",
    "def train_net(net, optimizer, scheduler, writer):\n",
    "    # Inputs : net = network Cov_ResNet\n",
    "    #          optimizer = the desired optimizer (here Stochastic Gradient Descent)\n",
    "    #          scheduler = Decays the learning rate of each parameter group by gamma once the number of epoch reaches one of the milestones.\n",
    "    #          writer = to check progress \n",
    "    # Outputs : best_accuracy = accuracy of the best model\n",
    "    #           test_pred_fin = list of the best model predictions (two values corresponding to each possible outcome for each input)\n",
    "    #           test_pred_fin = list of the ground truth (0 or 1 for each input)\n",
    "\n",
    "    \n",
    "    global_step = 0\n",
    "    best_accuracy = 0 # Accuracy of the best model \n",
    "    test_pred_fin = [] # List of the predictions of the model (tensors with a value for each possible outcome)\n",
    "    test_truth_fin = [] # Ground truth to compare the results at the end \n",
    "\n",
    "    for epoch in range(args.epoch):\n",
    "        # Train loop.\n",
    "        net.train()\n",
    "        for batch_idx, (x, y) in enumerate(train_dataloader):\n",
    "            # Keep track of the iteration number \n",
    "            global_step += 1\n",
    "            \n",
    "\n",
    "            #  Send x and y to either cpu or gpu using `device` variable. \n",
    "            x = x.to(device=device)\n",
    "            y = y.to(device=device)\n",
    "            \n",
    "            # Feed x into the network, get an output, and keep it in a variable called `logit`. \n",
    "            logit = net(x)\n",
    "\n",
    "            # Compute accuracy of this batch using logit, and keep it in a variable called 'accuracy'.\n",
    "            accuracy = (logit.argmax(1) == y).float().mean()\n",
    "\n",
    "            # Compute loss using logit and y, and keep it in a variable called loss.\n",
    "            loss = nn.CrossEntropyLoss()(logit, y)\n",
    "\n",
    "            # flush out the previously computed gradient.\n",
    "            optimizer.zero_grad()\n",
    "\n",
    "            # backward the computed loss. \n",
    "            loss.backward()\n",
    "\n",
    "            # update the network weights. \n",
    "            optimizer.step()\n",
    "\n",
    "            if global_step % args.log_iter == 0 and writer is not None:\n",
    "                # Log loss and accuracy values using writer. Use global_step as a timestamp for the log. \n",
    "                writer.add_scalar('train_loss', loss, global_step)\n",
    "                writer.add_scalar('train_accuracy', accuracy, global_step)\n",
    "\n",
    "            if global_step % args.ckpt_iter == 0: \n",
    "                # Save network weights in the directory specified by ckpt_dir directory. \n",
    "                torch.save(net.state_dict(), f'{ckpt_dir}/{global_step}.pt')\n",
    "\n",
    "        # Test loop.\n",
    "        net.eval()\n",
    "        with torch.no_grad():\n",
    "            test_loss = 0.\n",
    "            test_accuracy = 0.\n",
    "            test_num_data = 0.\n",
    "            test_pred = [] # Keep the model prediction\n",
    "            test_truth = [] # Ground truth \n",
    "            for batch_idx, (x, y) in enumerate(test_dataloader):\n",
    "                # Send x and y to either cpu or gpu using device variable\n",
    "                x = x.to(device=device)\n",
    "                y = y.to(device=device)\n",
    "\n",
    "                # Feed x into the network, get an output, and keep it in a variable called logit.\n",
    "                logit = net(x)\n",
    "\n",
    "                # Compute loss using logit and y, and keep it in a variable called loss.\n",
    "                loss = nn.CrossEntropyLoss()(logit, y)\n",
    "                \n",
    "                test_pred.append(logit) # Predictions\n",
    "                test_truth.append(y) # Ground truth \n",
    "\n",
    "                # Compute accuracy of this batch using logit, and keep it in a variable called accuracy.\n",
    "                accuracy = (logit.argmax(dim=1) == y).float().mean()\n",
    "\n",
    "                test_loss += loss.item()*x.shape[0] # Additive loss \n",
    "                test_accuracy += accuracy.item()*x.shape[0] # Accuracy \n",
    "                test_num_data += x.shape[0] # How many images were tested so far \n",
    "\n",
    "            test_loss /= test_num_data \n",
    "            test_accuracy /= test_num_data\n",
    "\n",
    "            if writer is not None: \n",
    "                # Log loss and accuracy values using writer. Use global_step as a timestamp for the log. \n",
    "                writer.add_scalar('test_loss', test_loss, global_step)\n",
    "                writer.add_scalar('test_accuracy', test_accuracy, global_step)\n",
    "\n",
    "                # Checking progress (an epoch takes 45 minutes to an hour and 15 minutes to train)\n",
    "                print(f'Test result of epoch {epoch}/{args.epoch} || loss : {test_loss:.3f} acc : {test_accuracy:.3f} ')\n",
    "\n",
    "                writer.flush()\n",
    "\n",
    "            # Whenever test_accuracy is greater than best_accuracy, save network weights with the filename best.pt in the directory specified by ckpt_dir\n",
    "            if test_accuracy > best_accuracy:\n",
    "                best_accuracy = test_accuracy # Update of the accuracy \n",
    "                test_pred_fin = test_pred # Update of the predictions \n",
    "                test_truth_fin = test_truth # Update of the grounf truth (needed because the order of processing is randomized)\n",
    "                torch.save(net.state_dict(), f'{ckpt_dir}_best.pt') # Save the network weigths\n",
    "    \n",
    "        scheduler.step()\n",
    "    return best_accuracy, test_pred_fin, test_truth_fin\n"
   ]
  },
  {
   "cell_type": "code",
   "execution_count": 54,
   "metadata": {},
   "outputs": [],
   "source": [
    "# Function for weight initialization.\n",
    "def weight_init(m):\n",
    "    if isinstance(m, nn.Linear) or isinstance(m, nn.Conv2d):\n",
    "        torch.nn.init.kaiming_normal_(m.weight)\n",
    "        if m.bias is not None:\n",
    "            torch.nn.init.constant_(m.bias, 0)\n",
    "    elif isinstance(m, nn.BatchNorm2d):\n",
    "        torch.nn.init.constant_(m.weight, 1)\n",
    "        torch.nn.init.constant_(m.bias, 0)"
   ]
  },
  {
   "cell_type": "code",
   "execution_count": 55,
   "metadata": {},
   "outputs": [],
   "source": [
    "# pip install tensorboard ## To run if this is the first time executing it from Jupyter notebook"
   ]
  },
  {
   "cell_type": "code",
   "execution_count": 56,
   "metadata": {},
   "outputs": [
    {
     "name": "stdout",
     "output_type": "stream",
     "text": [
      "The tensorboard extension is already loaded. To reload it, use:\n",
      "  %reload_ext tensorboard\n"
     ]
    },
    {
     "data": {
      "text/plain": [
       "Reusing TensorBoard on port 6006 (pid 26600), started 3 days, 20:54:16 ago. (Use '!kill 26600' to kill it.)"
      ]
     },
     "metadata": {},
     "output_type": "display_data"
    },
    {
     "data": {
      "text/html": [
       "\n",
       "      <iframe id=\"tensorboard-frame-7f2010ed9c88a875\" width=\"100%\" height=\"800\" frameborder=\"0\">\n",
       "      </iframe>\n",
       "      <script>\n",
       "        (function() {\n",
       "          const frame = document.getElementById(\"tensorboard-frame-7f2010ed9c88a875\");\n",
       "          const url = new URL(\"/\", window.location);\n",
       "          const port = 6006;\n",
       "          if (port) {\n",
       "            url.port = port;\n",
       "          }\n",
       "          frame.src = url;\n",
       "        })();\n",
       "      </script>\n",
       "    "
      ],
      "text/plain": [
       "<IPython.core.display.HTML object>"
      ]
     },
     "metadata": {},
     "output_type": "display_data"
    }
   ],
   "source": [
    "# Setup tensorboard.\n",
    "if args.tensorboard:\n",
    "    from torch.utils.tensorboard import SummaryWriter \n",
    "    %load_ext tensorboard\n",
    "    logs_base_dir = \"./logs\"\n",
    "    import datetime, os\n",
    "    os.makedirs(logs_base_dir, exist_ok=True)\n",
    "    %tensorboard --logdir {logs_base_dir}\n",
    "else:\n",
    "    writer = None"
   ]
  },
  {
   "cell_type": "code",
   "execution_count": 27,
   "metadata": {},
   "outputs": [
    {
     "name": "stdout",
     "output_type": "stream",
     "text": [
      "Logs and ckpts will be saved in : C:\\Users\\Alexia85\\Documents\\KAIST\\Cours\\CS491\\Project\\results\\trial_13\n"
     ]
    },
    {
     "data": {
      "text/plain": [
       "COV19_ResNet(\n",
       "  (res_conv1): Conv2d(1, 64, kernel_size=(7, 7), stride=(2, 2))\n",
       "  (pool1): MaxPool2d(kernel_size=2, stride=2, padding=0, dilation=1, ceil_mode=False)\n",
       "  (resNet1): ResNet_Block(\n",
       "    (conv_block): Sequential(\n",
       "      (0): Conv_Block(\n",
       "        (conv1): Conv2d(64, 64, kernel_size=(1, 1), stride=(1, 1))\n",
       "        (bn1): BatchNorm2d(64, eps=1e-05, momentum=0.1, affine=True, track_running_stats=True)\n",
       "        (act1): ReLU()\n",
       "        (conv2): Conv2d(64, 64, kernel_size=(3, 3), stride=(2, 2), padding=(1, 1))\n",
       "        (bn2): BatchNorm2d(64, eps=1e-05, momentum=0.1, affine=True, track_running_stats=True)\n",
       "        (act2): ReLU()\n",
       "        (conv3): Conv2d(64, 64, kernel_size=(1, 1), stride=(1, 1))\n",
       "        (bn3): BatchNorm2d(64, eps=1e-05, momentum=0.1, affine=True, track_running_stats=True)\n",
       "        (conv4): Conv2d(64, 64, kernel_size=(1, 1), stride=(2, 2))\n",
       "        (bn4): BatchNorm2d(64, eps=1e-05, momentum=0.1, affine=True, track_running_stats=True)\n",
       "        (act): ReLU()\n",
       "      )\n",
       "    )\n",
       "    (id_block): Sequential(\n",
       "      (0): Identity_Block(\n",
       "        (conv1): Conv2d(64, 64, kernel_size=(1, 1), stride=(1, 1), padding=valid)\n",
       "        (bn1): BatchNorm2d(64, eps=1e-05, momentum=0.1, affine=True, track_running_stats=True)\n",
       "        (act1): ReLU()\n",
       "        (conv2): Conv2d(64, 64, kernel_size=(3, 3), stride=(1, 1), padding=same)\n",
       "        (bn2): BatchNorm2d(64, eps=1e-05, momentum=0.1, affine=True, track_running_stats=True)\n",
       "        (act2): ReLU()\n",
       "        (conv3): Conv2d(64, 64, kernel_size=(1, 1), stride=(1, 1), padding=valid)\n",
       "        (bn3): BatchNorm2d(64, eps=1e-05, momentum=0.1, affine=True, track_running_stats=True)\n",
       "        (act): ReLU()\n",
       "      )\n",
       "      (1): Identity_Block(\n",
       "        (conv1): Conv2d(64, 64, kernel_size=(1, 1), stride=(1, 1), padding=valid)\n",
       "        (bn1): BatchNorm2d(64, eps=1e-05, momentum=0.1, affine=True, track_running_stats=True)\n",
       "        (act1): ReLU()\n",
       "        (conv2): Conv2d(64, 64, kernel_size=(3, 3), stride=(1, 1), padding=same)\n",
       "        (bn2): BatchNorm2d(64, eps=1e-05, momentum=0.1, affine=True, track_running_stats=True)\n",
       "        (act2): ReLU()\n",
       "        (conv3): Conv2d(64, 64, kernel_size=(1, 1), stride=(1, 1), padding=valid)\n",
       "        (bn3): BatchNorm2d(64, eps=1e-05, momentum=0.1, affine=True, track_running_stats=True)\n",
       "        (act): ReLU()\n",
       "      )\n",
       "    )\n",
       "  )\n",
       "  (resNet2): ResNet_Block(\n",
       "    (conv_block): Sequential(\n",
       "      (0): Conv_Block(\n",
       "        (conv1): Conv2d(64, 128, kernel_size=(1, 1), stride=(1, 1))\n",
       "        (bn1): BatchNorm2d(128, eps=1e-05, momentum=0.1, affine=True, track_running_stats=True)\n",
       "        (act1): ReLU()\n",
       "        (conv2): Conv2d(128, 128, kernel_size=(3, 3), stride=(2, 2), padding=(1, 1))\n",
       "        (bn2): BatchNorm2d(128, eps=1e-05, momentum=0.1, affine=True, track_running_stats=True)\n",
       "        (act2): ReLU()\n",
       "        (conv3): Conv2d(128, 128, kernel_size=(1, 1), stride=(1, 1))\n",
       "        (bn3): BatchNorm2d(128, eps=1e-05, momentum=0.1, affine=True, track_running_stats=True)\n",
       "        (conv4): Conv2d(64, 128, kernel_size=(1, 1), stride=(2, 2))\n",
       "        (bn4): BatchNorm2d(128, eps=1e-05, momentum=0.1, affine=True, track_running_stats=True)\n",
       "        (act): ReLU()\n",
       "      )\n",
       "    )\n",
       "    (id_block): Sequential(\n",
       "      (0): Identity_Block(\n",
       "        (conv1): Conv2d(128, 128, kernel_size=(1, 1), stride=(1, 1), padding=valid)\n",
       "        (bn1): BatchNorm2d(128, eps=1e-05, momentum=0.1, affine=True, track_running_stats=True)\n",
       "        (act1): ReLU()\n",
       "        (conv2): Conv2d(128, 128, kernel_size=(3, 3), stride=(1, 1), padding=same)\n",
       "        (bn2): BatchNorm2d(128, eps=1e-05, momentum=0.1, affine=True, track_running_stats=True)\n",
       "        (act2): ReLU()\n",
       "        (conv3): Conv2d(128, 128, kernel_size=(1, 1), stride=(1, 1), padding=valid)\n",
       "        (bn3): BatchNorm2d(128, eps=1e-05, momentum=0.1, affine=True, track_running_stats=True)\n",
       "        (act): ReLU()\n",
       "      )\n",
       "      (1): Identity_Block(\n",
       "        (conv1): Conv2d(128, 128, kernel_size=(1, 1), stride=(1, 1), padding=valid)\n",
       "        (bn1): BatchNorm2d(128, eps=1e-05, momentum=0.1, affine=True, track_running_stats=True)\n",
       "        (act1): ReLU()\n",
       "        (conv2): Conv2d(128, 128, kernel_size=(3, 3), stride=(1, 1), padding=same)\n",
       "        (bn2): BatchNorm2d(128, eps=1e-05, momentum=0.1, affine=True, track_running_stats=True)\n",
       "        (act2): ReLU()\n",
       "        (conv3): Conv2d(128, 128, kernel_size=(1, 1), stride=(1, 1), padding=valid)\n",
       "        (bn3): BatchNorm2d(128, eps=1e-05, momentum=0.1, affine=True, track_running_stats=True)\n",
       "        (act): ReLU()\n",
       "      )\n",
       "      (2): Identity_Block(\n",
       "        (conv1): Conv2d(128, 128, kernel_size=(1, 1), stride=(1, 1), padding=valid)\n",
       "        (bn1): BatchNorm2d(128, eps=1e-05, momentum=0.1, affine=True, track_running_stats=True)\n",
       "        (act1): ReLU()\n",
       "        (conv2): Conv2d(128, 128, kernel_size=(3, 3), stride=(1, 1), padding=same)\n",
       "        (bn2): BatchNorm2d(128, eps=1e-05, momentum=0.1, affine=True, track_running_stats=True)\n",
       "        (act2): ReLU()\n",
       "        (conv3): Conv2d(128, 128, kernel_size=(1, 1), stride=(1, 1), padding=valid)\n",
       "        (bn3): BatchNorm2d(128, eps=1e-05, momentum=0.1, affine=True, track_running_stats=True)\n",
       "        (act): ReLU()\n",
       "      )\n",
       "    )\n",
       "  )\n",
       "  (avg_pool): AvgPool2d(kernel_size=2, stride=2, padding=0)\n",
       "  (flat): Flatten(start_dim=1, end_dim=-1)\n",
       "  (fc1): Linear(in_features=6272, out_features=512, bias=True)\n",
       "  (dropout): Dropout2d(p=0.4, inplace=False)\n",
       "  (act1): ReLU()\n",
       "  (fc2): Linear(in_features=512, out_features=256, bias=True)\n",
       "  (act2): ReLU()\n",
       "  (fc3): Linear(in_features=256, out_features=2, bias=True)\n",
       "  (softmax): Softmax(dim=None)\n",
       ")"
      ]
     },
     "execution_count": 27,
     "metadata": {},
     "output_type": "execute_result"
    }
   ],
   "source": [
    "# Create directory name.\n",
    "num_trial=0\n",
    "parent_dir = result_dir / f'trial_{num_trial}'\n",
    "while parent_dir.is_dir():\n",
    "    num_trial = int(parent_dir.name.replace('trial_',''))\n",
    "    parent_dir = result_dir / f'trial_{num_trial+1}'\n",
    "print(f'Logs and ckpts will be saved in : {parent_dir}')\n",
    "\n",
    "\n",
    "\n",
    "network = COV19_ResNet().to(device)\n",
    "network.apply(weight_init)\n"
   ]
  },
  {
   "cell_type": "markdown",
   "metadata": {},
   "source": [
    "<a name=\"subparagraph32\"></a>\n",
    "###  <font color='sienna'> III.2 - Training"
   ]
  },
  {
   "cell_type": "code",
   "execution_count": 57,
   "metadata": {},
   "outputs": [
    {
     "name": "stderr",
     "output_type": "stream",
     "text": [
      "C:\\Users\\Alexia85\\anaconda3\\lib\\site-packages\\torch\\nn\\functional.py:1331: UserWarning: dropout2d: Received a 2-D input to dropout2d, which is deprecated and will result in an error in a future release. To retain the behavior and silence this warning, please use dropout instead. Note that dropout2d exists to provide channel-wise dropout on inputs with 2 spatial dimensions, a channel dimension, and an optional batch dimension (i.e. 3D or 4D inputs).\n",
      "  warnings.warn(warn_msg)\n"
     ]
    },
    {
     "name": "stdout",
     "output_type": "stream",
     "text": [
      "Test result of epoch 0/30 || loss : 0.643 acc : 0.667 \n",
      "Test result of epoch 1/30 || loss : 0.278 acc : 0.892 \n",
      "Test result of epoch 2/30 || loss : 0.283 acc : 0.902 \n",
      "Test result of epoch 3/30 || loss : 0.387 acc : 0.865 \n",
      "Test result of epoch 4/30 || loss : 0.888 acc : 0.642 \n",
      "Test result of epoch 5/30 || loss : 0.780 acc : 0.743 \n",
      "Test result of epoch 6/30 || loss : 0.912 acc : 0.695 \n",
      "Test result of epoch 7/30 || loss : 0.257 acc : 0.910 \n",
      "Test result of epoch 8/30 || loss : 0.256 acc : 0.930 \n",
      "Test result of epoch 9/30 || loss : 0.213 acc : 0.955 \n",
      "Test result of epoch 10/30 || loss : 0.623 acc : 0.853 \n",
      "Test result of epoch 11/30 || loss : 0.263 acc : 0.950 \n",
      "Test result of epoch 12/30 || loss : 0.478 acc : 0.890 \n",
      "Test result of epoch 13/30 || loss : 0.579 acc : 0.865 \n",
      "Test result of epoch 14/30 || loss : 0.414 acc : 0.907 \n",
      "Test result of epoch 15/30 || loss : 0.600 acc : 0.887 \n",
      "Test result of epoch 16/30 || loss : 0.916 acc : 0.848 \n",
      "Test result of epoch 17/30 || loss : 0.445 acc : 0.935 \n",
      "Test result of epoch 18/30 || loss : 0.561 acc : 0.922 \n",
      "Test result of epoch 19/30 || loss : 0.475 acc : 0.945 \n",
      "Test result of epoch 20/30 || loss : 0.610 acc : 0.922 \n",
      "Test result of epoch 21/30 || loss : 0.465 acc : 0.940 \n",
      "Test result of epoch 22/30 || loss : 0.720 acc : 0.897 \n",
      "Test result of epoch 23/30 || loss : 0.869 acc : 0.885 \n",
      "Test result of epoch 24/30 || loss : 0.492 acc : 0.938 \n",
      "Test result of epoch 25/30 || loss : 0.612 acc : 0.927 \n",
      "Test result of epoch 26/30 || loss : 0.598 acc : 0.922 \n",
      "Test result of epoch 27/30 || loss : 0.557 acc : 0.940 \n",
      "Test result of epoch 28/30 || loss : 0.704 acc : 0.915 \n",
      "Test result of epoch 29/30 || loss : 0.614 acc : 0.927 \n",
      "Best test accuracy : 0.955 took 67221.335 secs\n"
     ]
    }
   ],
   "source": [
    " # Define optimizer\n",
    "optimizer = optim.SGD(network.parameters(), lr=args.lr, momentum=0.9, weight_decay=0.0001)\n",
    "scheduler = optim.lr_scheduler.MultiStepLR(optimizer, milestones=[15,25], gamma=0.5)\n",
    "        \n",
    "# Create directories for logs and ckechpoints.\n",
    "ckpt_dir = parent_dir / args.name / args.ckpt_dir\n",
    "ckpt_dir.mkdir(parents=True, exist_ok=True)\n",
    "log_dir = parent_dir / args.name / args.log_dir\n",
    "log_dir.mkdir(parents=True, exist_ok=True)\n",
    "\n",
    "# Create tensorboard writer,\n",
    "if args.tensorboard: \n",
    "    writer = SummaryWriter(log_dir)\n",
    "\n",
    "# Call the train & test function.\n",
    "t1 = time.time()\n",
    "accuracy, test_pred, test_truth = train_net(network, optimizer, scheduler, writer)\n",
    "t = time.time()-t1\n",
    "print(f'Best test accuracy : {accuracy:.3f} took {t:.3f} secs')\n"
   ]
  },
  {
   "cell_type": "markdown",
   "metadata": {},
   "source": [
    "<a name=\"subparagraph33\"></a>\n",
    "###  <font color='sienna'> III.3 - Inference"
   ]
  },
  {
   "cell_type": "code",
   "execution_count": 80,
   "metadata": {},
   "outputs": [
    {
     "data": {
      "text/plain": [
       "<All keys matched successfully>"
      ]
     },
     "execution_count": 80,
     "metadata": {},
     "output_type": "execute_result"
    }
   ],
   "source": [
    "# Load the model\n",
    "PATH = './results/trial_12/main/ckpts_best.pt' # Change the name of the directory if needed\n",
    "model = COV19_ResNet().to(device)\n",
    "model.load_state_dict(torch.load(PATH))"
   ]
  },
  {
   "cell_type": "code",
   "execution_count": 81,
   "metadata": {},
   "outputs": [],
   "source": [
    "def test_only(net) :\n",
    "    net.eval()\n",
    "    with torch.no_grad():\n",
    "        test_loss = 0.\n",
    "        test_accuracy = 0.\n",
    "        test_num_data = 0.\n",
    "        # test_pred = pd.DataFrame(columns = ['Prediction', 'Ground_Truth'])\n",
    "        test_pred = []\n",
    "        test_truth = []\n",
    "        for batch_idx, (x, y) in enumerate(test_dataloader):\n",
    "            # Send `x` and `y` to either cpu or gpu using `device` variable..\n",
    "            x = x.to(device=device)\n",
    "            y = y.to(device=device)\n",
    "\n",
    "            # Feed `x` into the network, get an output, and keep it in a variable called `logit`.\n",
    "            logit = net(x)\n",
    "\n",
    "            # Compute loss using `logit` and `y`, and keep it in a variable called `loss`.\n",
    "            loss = nn.CrossEntropyLoss()(logit, y)\n",
    "\n",
    "            # We want to save the predictions in a csv file to be able to compute other metrics (false negative percentage for ex)\n",
    "            # d_temp = {'Prediction': logit, 'Ground_Truth': y}\n",
    "            # df_temp = pd.DataFrame(data=d_temp)\n",
    "            # test_pred = pd.concat([test_pred, df_temp], axis=1)\n",
    "            test_pred.append(logit)\n",
    "            test_truth.append(y)\n",
    "\n",
    "            # Compute accuracy of this batch using `logit`, and keep it in a variable called 'accuracy'.\n",
    "            accuracy = (logit.argmax(dim=1) == y).float().mean()\n",
    "            # accuracy = (logit.argmax(dim=1) == y).mean()\n",
    "\n",
    "            test_loss += loss.item()*x.shape[0]\n",
    "            test_accuracy += accuracy.item()*x.shape[0]\n",
    "            test_num_data += x.shape[0]\n",
    "\n",
    "        test_loss /= test_num_data\n",
    "        test_accuracy /= test_num_data\n",
    "\n",
    "    return test_accuracy, test_pred, test_truth"
   ]
  },
  {
   "cell_type": "code",
   "execution_count": 82,
   "metadata": {},
   "outputs": [
    {
     "name": "stderr",
     "output_type": "stream",
     "text": [
      "C:\\Users\\Alexia85\\anaconda3\\lib\\site-packages\\torch\\nn\\functional.py:1331: UserWarning: dropout2d: Received a 2-D input to dropout2d, which is deprecated and will result in an error in a future release. To retain the behavior and silence this warning, please use dropout instead. Note that dropout2d exists to provide channel-wise dropout on inputs with 2 spatial dimensions, a channel dimension, and an optional batch dimension (i.e. 3D or 4D inputs).\n",
      "  warnings.warn(warn_msg)\n"
     ]
    },
    {
     "name": "stdout",
     "output_type": "stream",
     "text": [
      "Best test accuracy : 0.953 took 56.779 secs\n"
     ]
    }
   ],
   "source": [
    "# Call the train & test function.\n",
    "t1 = time.time()\n",
    "accuracy, test_pred, test_truth = test_only(model)\n",
    "t = time.time()-t1\n",
    "print(f'Best test accuracy : {accuracy:.3f} took {t:.3f} secs')"
   ]
  },
  {
   "cell_type": "code",
   "execution_count": 83,
   "metadata": {},
   "outputs": [],
   "source": [
    "test_pred_copy = test_pred.copy()"
   ]
  },
  {
   "cell_type": "code",
   "execution_count": 84,
   "metadata": {},
   "outputs": [],
   "source": [
    "test_pred_copy2 = torch.cat(test_pred_copy).detach().cpu().numpy()\n",
    "test_pred_copy = np.argmax(test_pred_copy2, axis=1)"
   ]
  },
  {
   "cell_type": "code",
   "execution_count": 85,
   "metadata": {},
   "outputs": [],
   "source": [
    "test_truth_copy = test_truth.copy()\n",
    "test_truth_copy = torch.cat(test_truth_copy).detach().cpu().numpy()"
   ]
  },
  {
   "cell_type": "code",
   "execution_count": 86,
   "metadata": {},
   "outputs": [],
   "source": [
    "d_temp = {'Prediction': test_pred_copy, 'Ground_Truth': test_truth_copy}\n",
    "df_results = pd.DataFrame(data=d_temp)"
   ]
  },
  {
   "cell_type": "code",
   "execution_count": 79,
   "metadata": {},
   "outputs": [],
   "source": [
    "filepath = Path('./results/trial_12/predictions.csv') \n",
    "# df_results.to_csv(filepath, index=False, sep = ';')"
   ]
  },
  {
   "cell_type": "markdown",
   "metadata": {},
   "source": [
    "<a name=\"subparagraph34\"></a>\n",
    "###  <font color='sienna'> III.4 - Results"
   ]
  },
  {
   "cell_type": "code",
   "execution_count": 300,
   "metadata": {},
   "outputs": [],
   "source": [
    "# df_saved_file = pd.read_csv('./results/trial_12/Results_predictions.csv', sep = ';')\n",
    "# df_results = df_saved_file"
   ]
  },
  {
   "cell_type": "markdown",
   "metadata": {},
   "source": [
    "__Calcul of the Accuracy__"
   ]
  },
  {
   "cell_type": "code",
   "execution_count": 87,
   "metadata": {},
   "outputs": [
    {
     "data": {
      "text/plain": [
       "0.9525"
      ]
     },
     "execution_count": 87,
     "metadata": {},
     "output_type": "execute_result"
    }
   ],
   "source": [
    "# Calculate the accuracy again\n",
    "df_results[df_results.Prediction == df_results.Ground_Truth].shape[0]/ df_results.shape[0]"
   ]
  },
  {
   "cell_type": "markdown",
   "metadata": {},
   "source": [
    "$\\text{Accuracy} = \\frac{\\text{True Positive} + \\text{True Negative}}{\\text{True Positive} + \\text{False Negative} + \\text{False Positive} + \\text{True Negative}} \\times 100$ <br>\n",
    "$\\text{Accuracy} = \\text{Sensitivity} \\times \\text{Prevalence} + \\text{Specificity} \\times (1 - \\text{Prevalence})$ <br>\n",
    "Where Prevalence is the percentage of positive cases in the data set (here $\\text{Prevalence} = 0.5$)"
   ]
  },
  {
   "cell_type": "code",
   "execution_count": 88,
   "metadata": {},
   "outputs": [
    {
     "data": {
      "text/plain": [
       "98.25"
      ]
     },
     "execution_count": 88,
     "metadata": {},
     "output_type": "execute_result"
    }
   ],
   "source": [
    "97.5*0.5+99*0.5 # Accuracy of the paper (just given sensitivity and specificity)"
   ]
  },
  {
   "cell_type": "markdown",
   "metadata": {},
   "source": [
    "The paper presented an accuracy of 98.25"
   ]
  },
  {
   "cell_type": "markdown",
   "metadata": {},
   "source": [
    "__Calcul of the sensitivity and specificity__ "
   ]
  },
  {
   "cell_type": "markdown",
   "metadata": {},
   "source": [
    "$\\text{Sensitivity} = \\frac{\\text{True Positive}}{\\text{True Positive} + \\text{False Negative}} \\times 100$ <br>\n",
    "$\\text{Specificity} = \\frac{\\text{True Negative}}{\\text{True Negative} + \\text{False Positive}} \\times 100$"
   ]
  },
  {
   "cell_type": "markdown",
   "metadata": {},
   "source": [
    "The results of the paper were : <br> \n",
    "- Sensitivity = 97.5%\n",
    "- Specificity = 99% "
   ]
  },
  {
   "cell_type": "code",
   "execution_count": 89,
   "metadata": {},
   "outputs": [
    {
     "name": "stdout",
     "output_type": "stream",
     "text": [
      "True Positive :  197\n",
      "True Negative :  184\n",
      "False Positive :  16\n",
      "False Negative :  3\n"
     ]
    }
   ],
   "source": [
    "# True Positive = number of well diagnosed positive cases \n",
    "TP = df_results[(df_results.Prediction == 1) & (df_results.Prediction == df_results.Ground_Truth)].shape[0]\n",
    "print ('True Positive : ', TP)\n",
    "# True Negative = number of well diagnosed negative cases\n",
    "TN = df_results[(df_results.Prediction == 0) & (df_results.Prediction == df_results.Ground_Truth)].shape[0]\n",
    "print ('True Negative : ', TN)\n",
    "# False Positive = number of falsly diagnosed positive cases\n",
    "FP = df_results[(df_results.Prediction == 1) & (df_results.Prediction != df_results.Ground_Truth)].shape[0]\n",
    "print ('False Positive : ', FP)\n",
    "# False Negative = number of falsly diagnosed negative cases\n",
    "FN = df_results[(df_results.Prediction == 0) & (df_results.Prediction != df_results.Ground_Truth)].shape[0]\n",
    "print ('False Negative : ', FN)"
   ]
  },
  {
   "cell_type": "markdown",
   "metadata": {},
   "source": [
    "The model identify more false positive compared to false negative. "
   ]
  },
  {
   "cell_type": "code",
   "execution_count": 90,
   "metadata": {},
   "outputs": [
    {
     "name": "stdout",
     "output_type": "stream",
     "text": [
      "Sensitivity :  98.5\n",
      "Specificity :  92.0\n"
     ]
    }
   ],
   "source": [
    "sensitivity = TP/(TP+FN) * 100 \n",
    "print ('Sensitivity : ', sensitivity)\n",
    "specificity = TN/(TN+FP) * 100 \n",
    "print ('Specificity : ', specificity)"
   ]
  },
  {
   "cell_type": "markdown",
   "metadata": {},
   "source": [
    "__Calcul of the Positive Predictive Value (PPV)__ "
   ]
  },
  {
   "cell_type": "markdown",
   "metadata": {},
   "source": [
    "$\\text{Positive Predictive Value (PPV)} = \\frac{\\text{True Positive}}{\\text{True Positive} + \\text{False Positive}} \\times 100$ <br>\n",
    "$\\text{Negative Predictive Value (NPV)} = \\frac{\\text{True Negative}}{\\text{True Negative} + \\text{False Negative}} \\times 100$ "
   ]
  },
  {
   "cell_type": "markdown",
   "metadata": {},
   "source": [
    "The results of the paper were : <br> \n",
    "- PPV = 99%\n",
    "- NPV = 97.5%"
   ]
  },
  {
   "cell_type": "code",
   "execution_count": 91,
   "metadata": {},
   "outputs": [
    {
     "name": "stdout",
     "output_type": "stream",
     "text": [
      "PPV :  92.48826291079813\n",
      "NPV :  98.3957219251337\n"
     ]
    }
   ],
   "source": [
    "ppv = TP/(TP+FP) * 100 \n",
    "print ('PPV : ', ppv)\n",
    "npv = TN/(TN+FN) * 100 \n",
    "print ('NPV : ', npv)"
   ]
  },
  {
   "cell_type": "markdown",
   "metadata": {},
   "source": [
    "__Comparison of the levels of confidence for right and wrong answers__"
   ]
  },
  {
   "cell_type": "code",
   "execution_count": 92,
   "metadata": {},
   "outputs": [],
   "source": [
    "ind_wrong = df_results[df_results.Prediction != df_results.Ground_Truth].index"
   ]
  },
  {
   "cell_type": "code",
   "execution_count": 93,
   "metadata": {},
   "outputs": [
    {
     "data": {
      "text/html": [
       "<div>\n",
       "<style scoped>\n",
       "    .dataframe tbody tr th:only-of-type {\n",
       "        vertical-align: middle;\n",
       "    }\n",
       "\n",
       "    .dataframe tbody tr th {\n",
       "        vertical-align: top;\n",
       "    }\n",
       "\n",
       "    .dataframe thead th {\n",
       "        text-align: right;\n",
       "    }\n",
       "</style>\n",
       "<table border=\"1\" class=\"dataframe\">\n",
       "  <thead>\n",
       "    <tr style=\"text-align: right;\">\n",
       "      <th></th>\n",
       "      <th>Prediction</th>\n",
       "      <th>Ground_Truth</th>\n",
       "    </tr>\n",
       "  </thead>\n",
       "  <tbody>\n",
       "    <tr>\n",
       "      <th>0</th>\n",
       "      <td>1</td>\n",
       "      <td>1</td>\n",
       "    </tr>\n",
       "    <tr>\n",
       "      <th>1</th>\n",
       "      <td>1</td>\n",
       "      <td>1</td>\n",
       "    </tr>\n",
       "    <tr>\n",
       "      <th>2</th>\n",
       "      <td>1</td>\n",
       "      <td>1</td>\n",
       "    </tr>\n",
       "    <tr>\n",
       "      <th>3</th>\n",
       "      <td>1</td>\n",
       "      <td>1</td>\n",
       "    </tr>\n",
       "    <tr>\n",
       "      <th>4</th>\n",
       "      <td>1</td>\n",
       "      <td>1</td>\n",
       "    </tr>\n",
       "    <tr>\n",
       "      <th>...</th>\n",
       "      <td>...</td>\n",
       "      <td>...</td>\n",
       "    </tr>\n",
       "    <tr>\n",
       "      <th>395</th>\n",
       "      <td>0</td>\n",
       "      <td>0</td>\n",
       "    </tr>\n",
       "    <tr>\n",
       "      <th>396</th>\n",
       "      <td>0</td>\n",
       "      <td>0</td>\n",
       "    </tr>\n",
       "    <tr>\n",
       "      <th>397</th>\n",
       "      <td>0</td>\n",
       "      <td>0</td>\n",
       "    </tr>\n",
       "    <tr>\n",
       "      <th>398</th>\n",
       "      <td>0</td>\n",
       "      <td>0</td>\n",
       "    </tr>\n",
       "    <tr>\n",
       "      <th>399</th>\n",
       "      <td>0</td>\n",
       "      <td>0</td>\n",
       "    </tr>\n",
       "  </tbody>\n",
       "</table>\n",
       "<p>400 rows × 2 columns</p>\n",
       "</div>"
      ],
      "text/plain": [
       "     Prediction  Ground_Truth\n",
       "0             1             1\n",
       "1             1             1\n",
       "2             1             1\n",
       "3             1             1\n",
       "4             1             1\n",
       "..          ...           ...\n",
       "395           0             0\n",
       "396           0             0\n",
       "397           0             0\n",
       "398           0             0\n",
       "399           0             0\n",
       "\n",
       "[400 rows x 2 columns]"
      ]
     },
     "execution_count": 93,
     "metadata": {},
     "output_type": "execute_result"
    }
   ],
   "source": [
    "df_results"
   ]
  },
  {
   "cell_type": "code",
   "execution_count": 94,
   "metadata": {},
   "outputs": [
    {
     "data": {
      "text/plain": [
       "3.4025144075092517"
      ]
     },
     "execution_count": 94,
     "metadata": {},
     "output_type": "execute_result"
    }
   ],
   "source": [
    "np.sum(np.abs(test_pred_copy2[ind_wrong][:,0] - test_pred_copy2[ind_wrong][:,1]))/test_pred_copy2[ind_wrong].shape[0]"
   ]
  },
  {
   "cell_type": "code",
   "execution_count": 95,
   "metadata": {},
   "outputs": [
    {
     "data": {
      "text/plain": [
       "12.842252229389391"
      ]
     },
     "execution_count": 95,
     "metadata": {},
     "output_type": "execute_result"
    }
   ],
   "source": [
    "np.sum(np.abs(test_pred_copy2[~ind_wrong][:,0] - test_pred_copy2[~ind_wrong][:,1]))/test_pred_copy2[~ind_wrong].shape[0]"
   ]
  },
  {
   "cell_type": "markdown",
   "metadata": {},
   "source": [
    "The mean of the difference between the two classes is larger for right answers, meaning the model is more certain of the rigth answers. It could be useful to relativize the results with a 'confidence index' calculated thanks to the difference between the value prediction for the two classes. "
   ]
  },
  {
   "cell_type": "markdown",
   "metadata": {},
   "source": [
    "Confindence index : we calculate the probability for each prediction "
   ]
  },
  {
   "cell_type": "code",
   "execution_count": 96,
   "metadata": {},
   "outputs": [],
   "source": [
    "test_pred_df = pd.DataFrame(test_pred_copy2)\n",
    "test_pred_df.columns = ['Negatif', 'Positif']\n",
    "from scipy.special import softmax\n",
    "test_pred_df = softmax(test_pred_df, axis = 1)"
   ]
  },
  {
   "cell_type": "code",
   "execution_count": 97,
   "metadata": {},
   "outputs": [],
   "source": [
    "test_pred_df['Max_values'] = test_pred_df[['Negatif','Positif']].max(axis=1)"
   ]
  },
  {
   "cell_type": "code",
   "execution_count": 98,
   "metadata": {},
   "outputs": [
    {
     "data": {
      "text/html": [
       "<div>\n",
       "<style scoped>\n",
       "    .dataframe tbody tr th:only-of-type {\n",
       "        vertical-align: middle;\n",
       "    }\n",
       "\n",
       "    .dataframe tbody tr th {\n",
       "        vertical-align: top;\n",
       "    }\n",
       "\n",
       "    .dataframe thead th {\n",
       "        text-align: right;\n",
       "    }\n",
       "</style>\n",
       "<table border=\"1\" class=\"dataframe\">\n",
       "  <thead>\n",
       "    <tr style=\"text-align: right;\">\n",
       "      <th></th>\n",
       "      <th>Negatif</th>\n",
       "      <th>Positif</th>\n",
       "      <th>Max_values</th>\n",
       "    </tr>\n",
       "  </thead>\n",
       "  <tbody>\n",
       "    <tr>\n",
       "      <th>0</th>\n",
       "      <td>1.290325e-08</td>\n",
       "      <td>1.000000</td>\n",
       "      <td>1.000000</td>\n",
       "    </tr>\n",
       "    <tr>\n",
       "      <th>1</th>\n",
       "      <td>1.263833e-04</td>\n",
       "      <td>0.999874</td>\n",
       "      <td>0.999874</td>\n",
       "    </tr>\n",
       "    <tr>\n",
       "      <th>2</th>\n",
       "      <td>1.624995e-06</td>\n",
       "      <td>0.999999</td>\n",
       "      <td>0.999999</td>\n",
       "    </tr>\n",
       "    <tr>\n",
       "      <th>3</th>\n",
       "      <td>2.526208e-06</td>\n",
       "      <td>0.999998</td>\n",
       "      <td>0.999998</td>\n",
       "    </tr>\n",
       "    <tr>\n",
       "      <th>4</th>\n",
       "      <td>2.349312e-07</td>\n",
       "      <td>1.000000</td>\n",
       "      <td>1.000000</td>\n",
       "    </tr>\n",
       "    <tr>\n",
       "      <th>...</th>\n",
       "      <td>...</td>\n",
       "      <td>...</td>\n",
       "      <td>...</td>\n",
       "    </tr>\n",
       "    <tr>\n",
       "      <th>395</th>\n",
       "      <td>9.997764e-01</td>\n",
       "      <td>0.000224</td>\n",
       "      <td>0.999776</td>\n",
       "    </tr>\n",
       "    <tr>\n",
       "      <th>396</th>\n",
       "      <td>9.993768e-01</td>\n",
       "      <td>0.000623</td>\n",
       "      <td>0.999377</td>\n",
       "    </tr>\n",
       "    <tr>\n",
       "      <th>397</th>\n",
       "      <td>7.265410e-01</td>\n",
       "      <td>0.273459</td>\n",
       "      <td>0.726541</td>\n",
       "    </tr>\n",
       "    <tr>\n",
       "      <th>398</th>\n",
       "      <td>9.835187e-01</td>\n",
       "      <td>0.016481</td>\n",
       "      <td>0.983519</td>\n",
       "    </tr>\n",
       "    <tr>\n",
       "      <th>399</th>\n",
       "      <td>9.993166e-01</td>\n",
       "      <td>0.000683</td>\n",
       "      <td>0.999317</td>\n",
       "    </tr>\n",
       "  </tbody>\n",
       "</table>\n",
       "<p>400 rows × 3 columns</p>\n",
       "</div>"
      ],
      "text/plain": [
       "          Negatif   Positif  Max_values\n",
       "0    1.290325e-08  1.000000    1.000000\n",
       "1    1.263833e-04  0.999874    0.999874\n",
       "2    1.624995e-06  0.999999    0.999999\n",
       "3    2.526208e-06  0.999998    0.999998\n",
       "4    2.349312e-07  1.000000    1.000000\n",
       "..            ...       ...         ...\n",
       "395  9.997764e-01  0.000224    0.999776\n",
       "396  9.993768e-01  0.000623    0.999377\n",
       "397  7.265410e-01  0.273459    0.726541\n",
       "398  9.835187e-01  0.016481    0.983519\n",
       "399  9.993166e-01  0.000683    0.999317\n",
       "\n",
       "[400 rows x 3 columns]"
      ]
     },
     "execution_count": 98,
     "metadata": {},
     "output_type": "execute_result"
    }
   ],
   "source": [
    "test_pred_df"
   ]
  },
  {
   "cell_type": "code",
   "execution_count": 99,
   "metadata": {},
   "outputs": [
    {
     "data": {
      "text/plain": [
       "0.8593008141768607"
      ]
     },
     "execution_count": 99,
     "metadata": {},
     "output_type": "execute_result"
    }
   ],
   "source": [
    "np.sum(np.abs(test_pred_df.Max_values[ind_wrong]))/test_pred_df.Max_values[ind_wrong].shape[0]"
   ]
  },
  {
   "cell_type": "code",
   "execution_count": 100,
   "metadata": {},
   "outputs": [
    {
     "data": {
      "text/plain": [
       "count    19.000000\n",
       "mean      0.859301\n",
       "std       0.178387\n",
       "min       0.509991\n",
       "25%       0.755644\n",
       "50%       0.966643\n",
       "75%       0.992562\n",
       "max       0.999778\n",
       "Name: Max_values, dtype: float64"
      ]
     },
     "execution_count": 100,
     "metadata": {},
     "output_type": "execute_result"
    }
   ],
   "source": [
    "test_pred_df.Max_values[ind_wrong].describe()"
   ]
  },
  {
   "cell_type": "code",
   "execution_count": 101,
   "metadata": {},
   "outputs": [],
   "source": [
    "ind_right = df_results[df_results.Prediction == df_results.Ground_Truth].index"
   ]
  },
  {
   "cell_type": "code",
   "execution_count": 102,
   "metadata": {},
   "outputs": [
    {
     "data": {
      "text/plain": [
       "0.9731905078637632"
      ]
     },
     "execution_count": 102,
     "metadata": {},
     "output_type": "execute_result"
    }
   ],
   "source": [
    "np.sum(np.abs(test_pred_df.Max_values[ind_right]))/test_pred_df.Max_values[ind_right].shape[0]"
   ]
  },
  {
   "cell_type": "code",
   "execution_count": 103,
   "metadata": {},
   "outputs": [
    {
     "data": {
      "text/plain": [
       "count    381.000000\n",
       "mean       0.973191\n",
       "std        0.073148\n",
       "min        0.532325\n",
       "25%        0.990490\n",
       "50%        0.999681\n",
       "75%        0.999995\n",
       "max        1.000000\n",
       "Name: Max_values, dtype: float64"
      ]
     },
     "execution_count": 103,
     "metadata": {},
     "output_type": "execute_result"
    }
   ],
   "source": [
    "test_pred_df.Max_values[ind_right].describe()"
   ]
  },
  {
   "cell_type": "markdown",
   "metadata": {},
   "source": [
    "Another training with 30 epochs resulted in a slighlty better accuracy (95.5%). The balance between specificty and sensitivity is nearly perfect (sensitivity of 96% and specificity of 95%). Both models seem relevant depending on what we desire from the medical test. If the sensitivity is a priority (could be due to the higlhy infectious factor of the disease), the first model (ckpts_best.pt in the repository) would be prefered. If it is important to have both sensitivity and specificity at the same level, the second model (ckpts_best2.pt) would be prefered. "
   ]
  }
 ],
 "metadata": {
  "colab": {
   "provenance": []
  },
  "kernelspec": {
   "display_name": "Python 3 (ipykernel)",
   "language": "python",
   "name": "python3"
  },
  "language_info": {
   "codemirror_mode": {
    "name": "ipython",
    "version": 3
   },
   "file_extension": ".py",
   "mimetype": "text/x-python",
   "name": "python",
   "nbconvert_exporter": "python",
   "pygments_lexer": "ipython3",
   "version": "3.9.12"
  }
 },
 "nbformat": 4,
 "nbformat_minor": 1
}
